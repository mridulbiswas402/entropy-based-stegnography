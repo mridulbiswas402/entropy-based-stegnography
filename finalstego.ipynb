{
  "nbformat": 4,
  "nbformat_minor": 0,
  "metadata": {
    "colab": {
      "name": "finalstego.ipynb",
      "provenance": [],
      "collapsed_sections": [],
      "mount_file_id": "1nU_vJz4_2YpxRgqgk6G41ITCgq0IVDgB",
      "authorship_tag": "ABX9TyMUBo891zi+c9JucA54p4aw",
      "include_colab_link": true
    },
    "kernelspec": {
      "name": "python3",
      "display_name": "Python 3"
    },
    "language_info": {
      "name": "python"
    }
  },
  "cells": [
    {
      "cell_type": "markdown",
      "metadata": {
        "id": "view-in-github",
        "colab_type": "text"
      },
      "source": [
        "<a href=\"https://colab.research.google.com/github/mridulbiswas402/entropy-based-stegnography/blob/main/finalstego.ipynb\" target=\"_parent\"><img src=\"https://colab.research.google.com/assets/colab-badge.svg\" alt=\"Open In Colab\"/></a>"
      ]
    },
    {
      "cell_type": "code",
      "metadata": {
        "id": "p17j0mh9ZFGN"
      },
      "source": [
        "from math import log\n",
        "from math import e\n",
        "from tqdm import tqdm\n",
        "from math import log10, sqrt\n",
        "from scipy import stats\n",
        "#from PIL import ImageColor\n",
        "#from PIL import Image, ImageFilter\n",
        "import binascii\n",
        "import cv2 \n",
        "from numpy import asarray\n",
        "from math import floor\n",
        "import numpy as np \n",
        "from google.colab.patches import cv2_imshow  \n",
        "import matplotlib.pyplot as plt \n",
        "%matplotlib inline\n",
        "import os\n",
        "import pandas as pd"
      ],
      "execution_count": 46,
      "outputs": []
    },
    {
      "cell_type": "code",
      "metadata": {
        "id": "1DsXk9NoGUsW"
      },
      "source": [
        "def result(imgdata,binary,mask):\n",
        "  entry = len(imgdata)\n",
        "  score = list()\n",
        "  for i in tqdm(range(entry)):\n",
        "    image = cv2.imread(imgdata[\"path\"][i]) \n",
        "    gray = cv2.cvtColor(image, cv2.COLOR_BGR2GRAY)\n",
        "    temp=gray.copy()\n",
        "    temp=varbitstego.varbitencode1(binary,temp,mask)\n",
        "    score.append(varbitstego.metrics(gray,temp))\n",
        "  colnames=[\"BPP\",\"MSE\",\"SNR\",\"PSNR\",\"DATA\"]  \n",
        "  return  pd.DataFrame(score,columns=colnames)\n",
        "\n",
        "\n",
        "\n",
        "def metrics(original,output,imageid):\n",
        "    bpp = BPP(original)\n",
        "    mse = MSE(original,output)\n",
        "    snr = SNR(original,output)\n",
        "    psnr = PSNR(original,output)\n",
        "    noofpix = len(edgeloc(original))\n",
        "    dat = (bpp*noofpix)/8\n",
        "    return imageid,bpp,mse,snr,psnr,dat\n",
        "\n",
        "\n",
        "def MSE(output,input):\n",
        "    difference_array = np.subtract(output, input)\n",
        "    squared_array = np.square(difference_array)\n",
        "    mse = squared_array.mean()\n",
        "    return mse\n",
        "\n",
        "def PSNR(original, compressed):\n",
        "    mse = np.mean((original - compressed) ** 2)\n",
        "    if(mse == 0):  # MSE is zero means no noise is present in the signal .\n",
        "                  # Therefore PSNR have no importance.\n",
        "        return 100\n",
        "    max_pixel = 255.0\n",
        "    psnr = 20 * log10(max_pixel / sqrt(mse))\n",
        "    return psnr  \n",
        "\n",
        "def SNR(original, compressed):\n",
        "    mse = np.sum((original - compressed) ** 2)\n",
        "    if(mse == 0):  # MSE is zero means no noise is present in the signal .\n",
        "                  # Therefore PSNR have no importance.\n",
        "        return 100\n",
        "    max_pixel = np.sum(np.square(original))\n",
        "    snr = 20 * log10(max_pixel / mse)\n",
        "    return snr\n",
        "\n",
        "def BPP(grayimagearray):\n",
        "    edgpix = edgepixval(grayimagearray)\n",
        "    noofbit = floor(log(np.std(edgpix),e))\n",
        "    return noofbit     "
      ],
      "execution_count": 47,
      "outputs": []
    },
    {
      "cell_type": "code",
      "metadata": {
        "id": "7gormprHDMfw"
      },
      "source": [
        "def edgeloc(imagearray):\n",
        "    edges = cv2.Canny(imagearray,100,200)\n",
        "    row,col=edges.shape\n",
        "    lst=[]\n",
        "    for i in range(1,row):\n",
        "      for j in range(col):\n",
        "        if(edges[i,j]>=250):\n",
        "          lst.append((i,j))  \n",
        "    return lst \n",
        "\n",
        "def edgepixval(imagearray):\n",
        "    edgloc=edgeloc(imagearray)\n",
        "    edglst=[]\n",
        "    l = len(edgloc)\n",
        "    for k in range(l):\n",
        "      i,j=edgloc[k]\n",
        "      edglst.append(imagearray[i,j])\n",
        "    return np.array(edglst)  \n",
        "\n",
        "\n",
        "def calcmask(grayimagearray):\n",
        "    edgpix = edgepixval(grayimagearray)\n",
        "    noofbit = floor(log(np.std(edgpix),e))\n",
        "    mask = ''\n",
        "    for i in range(8-noofbit):\n",
        "      mask=mask+'1'\n",
        "    for i in range(noofbit):\n",
        "      mask = mask + '0'  \n",
        "    return int(mask,2)  "
      ],
      "execution_count": 48,
      "outputs": []
    },
    {
      "cell_type": "code",
      "metadata": {
        "id": "EbfZUJcRZWQb"
      },
      "source": [
        "def rgb2hex(r, g, b):\n",
        "\treturn '#{:02x}{:02x}{:02x}'.format(r, g, b)\n",
        "\n",
        "def hex2rgb(hexcode):\n",
        "\treturn ImageColor.getcolor(hexcode, \"RGB\")\n",
        "\n",
        "\n",
        "def str2bin(message):\n",
        "    binary = bin(int(binascii.hexlify(message.encode(\"ascii\")), 16))\n",
        "    return binary[2:]  \n",
        "\n",
        "def bin2str(binary):\n",
        "\tmessage = binascii.unhexlify('%x' % (int('0b'+binary,2)))\n",
        "\treturn message\n"
      ],
      "execution_count": 49,
      "outputs": []
    },
    {
      "cell_type": "code",
      "metadata": {
        "id": "MDqlCZTCZaIu"
      },
      "source": [
        "def varbitextr(pixel,mask):\n",
        "    noofbits=countzeros(mask)\n",
        "    dmask=mask ^ 255\n",
        "    if (noofbits==1):\n",
        "      return format((pixel & dmask),\"0b\")\n",
        "    elif (noofbits==2):\n",
        "      return format((pixel & dmask),\"02b\")\n",
        "    elif (noofbits==3):\n",
        "      return format((pixel & dmask),\"03b\") \n",
        "    elif (noofbits==4):\n",
        "      return format((pixel & dmask),\"04b\")\n",
        "    else:\n",
        "      print(\"error\")     \n",
        "\n",
        "\n",
        "def varbitemb(pixel,data,mask):\n",
        "  return ((pixel & mask )|data)\n",
        "\n",
        "\n",
        "\n",
        "def countzeros(mask):\n",
        "  count0=0\n",
        "  while (mask != 0):  \n",
        "    if (mask % 2 == 0):\n",
        "      count0 += 1\n",
        "    mask //= 2\n",
        "  return count0  \n",
        "\n",
        "\n",
        "def stuffbits(binarymessage,mask):\n",
        " # print(\"  in function stuffbit \")\n",
        "  n = countzeros(mask)\n",
        "  #print(\"on of zero in mask = \",n)\n",
        "  nbstuff = (n-(len(binarymessage) % n)) \n",
        "  #print(\"nbstuff = \",nbstuff)\n",
        "  while (nbstuff):\n",
        "    binarymessage=binarymessage+'0'\n",
        "    nbstuff=nbstuff-1\n",
        "  return binarymessage   \n"
      ],
      "execution_count": 50,
      "outputs": []
    },
    {
      "cell_type": "code",
      "metadata": {
        "id": "MuzdahpFZlpx"
      },
      "source": [
        "def varbitencode1(binmessage,imagearray,mask):\n",
        " # print(\"in function varbitencode1 \")\n",
        "  row,col=imagearray.shape\n",
        " # print(\"row,col = \",row,col)\n",
        "  noofbits= countzeros(mask)\n",
        " # print(\"noofbit = \",noofbits)\n",
        "  lst = stuffbits(binmessage,mask)\n",
        "  #lst=binmessage\n",
        "  imagearray[0,0]=mask\n",
        "  noofpix = format(int((len(lst)/noofbits)),'016b')\n",
        " # print(\"noofpix = \",int(noofpix,2))\n",
        "  datalen = format(len(binmessage),'016b')\n",
        " # print(\"datalen = \",int(datalen,2))\n",
        "  imagearray[0,1]=int(noofpix[:8],2)\n",
        "  imagearray[0,2]=int(noofpix[8:],2)\n",
        "  imagearray[0,3]=int(datalen[:8],2)\n",
        "  imagearray[0,4]=int(datalen[8:],2)\n",
        "  for i in range(1,row):\n",
        "    for j in range(col):\n",
        "      temp = imagearray[i,j]\n",
        "      if (lst):\n",
        "        data=int(lst[:noofbits],2)\n",
        "        lst=lst[noofbits:]\n",
        "        imagearray[i,j]=varbitemb(temp,data,mask)\n",
        "      else: break\n",
        "  return imagearray \n",
        "\n",
        "\n",
        " \n",
        "def varbitdecode1(imagearray):\n",
        " # print(\"  in function varbitdecode1  \")\n",
        "  #dmask = mask ^ 255\n",
        "  mask = imagearray[0,0]\n",
        " # print(\"mask = \",mask)\n",
        "  noofpix = (256*imagearray[0,1]+imagearray[0,2])\n",
        " # print(\"noofpix = \",noofpix)\n",
        "  datalen = (256*imagearray[0,3]+imagearray[0,4])\n",
        " # print(\"datalen = \",datalen)\n",
        "  binmessage=''\n",
        "  #noofbits= countzeros(mask)\n",
        "  n = countzeros(mask)\n",
        " # print(\"no of zeros in mask = \",n)\n",
        "  stuffedbit = (n-(datalen % n))\n",
        " # print(\"stuffedbit = \",stuffedbit) \n",
        "  row,col=imagearray.shape\n",
        " # print(\"row,col = \",row,col)\n",
        "\n",
        "  for i in range(1,row):\n",
        "    for j in range(col):\n",
        "      temp = imagearray[i,j]\n",
        "      binmessage=binmessage+varbitextr(temp,mask)\n",
        "      noofpix=noofpix-1\n",
        "      if(not noofpix):\n",
        "        print('success')\n",
        "        return bin2str(binmessage[:-stuffedbit])\n",
        "       # print(-stuffedbit)\n",
        "        #return binmessage[:-stuffedbit] to"
      ],
      "execution_count": 51,
      "outputs": []
    },
    {
      "cell_type": "code",
      "metadata": {
        "colab": {
          "base_uri": "https://localhost:8080/",
          "height": 122
        },
        "id": "pUv5Lm2v_vzh",
        "outputId": "e9ef819e-e9f6-49b6-9bad-8101fa756028"
      },
      "source": [
        "\n",
        "def varbitencode2(binmessage,imagearray,mask):\n",
        " # print(\"in function varbitencode1 \")\n",
        "  row,col=imagearray.shape\n",
        " # print(\"row,col = \",row,col)\n",
        "  noofbits= countzeros(mask)\n",
        " # print(\"noofbit = \",noofbits)\n",
        "  lst = stuffbits(binmessage,mask)\n",
        "  #lst=binmessage\n",
        "  imagearray[0,0]=mask\n",
        "  noofpix = format(int((len(lst)/noofbits)),'016b')\n",
        " # print(\"noofpix = \",int(noofpix,2))\n",
        "  datalen = format(len(binmessage),'016b')\n",
        " # print(\"datalen = \",int(datalen,2))\n",
        "  imagearray[0,1]=int(noofpix[:8],2)\n",
        "  imagearray[0,2]=int(noofpix[8:],2)\n",
        "  imagearray[0,3]=int(datalen[:8],2)\n",
        "  imagearray[0,4]=int(datalen[8:],2)\n",
        " ###################################\n",
        "  edg = edgeloc(imagearray)\n",
        "  nofedg = len(edg)\n",
        "  for k in range(nofedg):\n",
        "      i,j= edg[k]\n",
        "      temp = imagearray[i,j]\n",
        "      if (lst):\n",
        "        data=int(lst[:noofbits],2)\n",
        "        lst=lst[noofbits:]\n",
        "        imagearray[i,j]=varbitemb(temp,data,mask)\n",
        "      else: break\n",
        "  return imagearray \n",
        "\n",
        "\"\"\"\n",
        "# correction needed\n",
        "def varbitdecode2(imagearray):\n",
        " # print(\"  in function varbitdecode1  \")\n",
        "  #dmask = mask ^ 255\n",
        "  mask = imagearray[0,0]\n",
        " # print(\"mask = \",mask)\n",
        "  noofpix = (256*imagearray[0,1]+imagearray[0,2])\n",
        " # print(\"noofpix = \",noofpix)\n",
        "  datalen = (256*imagearray[0,3]+imagearray[0,4])\n",
        " # print(\"datalen = \",datalen)\n",
        "  binmessage=''\n",
        "  #noofbits= countzeros(mask)\n",
        "  n = countzeros(mask)\n",
        " # print(\"no of zeros in mask = \",n)\n",
        "  stuffedbit = (n-(datalen % n))\n",
        " # print(\"stuffedbit = \",stuffedbit) \n",
        "  row,col=imagearray.shape\n",
        " # print(\"row,col = \",row,col)\n",
        "  edg = edgeloc(imagearray)\n",
        "  nofedg = len(edg)\n",
        "  for k in range(nofedg):\n",
        "      i,j= edg[k]\n",
        "      temp = imagearray[i,j]\n",
        "      binmessage=binmessage+varbitextr(temp,mask)\n",
        "      noofpix=noofpix-1\n",
        "      if(not noofpix):\n",
        "        print('success')\n",
        "        return bin2str(binmessage[:-stuffedbit])\n",
        "       # print(-stuffedbit)\n",
        "        #return binmessage[:-stuffedbit] to  \n",
        "\n",
        "  \"\"\"      "
      ],
      "execution_count": 52,
      "outputs": [
        {
          "output_type": "execute_result",
          "data": {
            "application/vnd.google.colaboratory.intrinsic+json": {
              "type": "string"
            },
            "text/plain": [
              "'\\n# correction needed\\ndef varbitdecode2(imagearray):\\n # print(\"  in function varbitdecode1  \")\\n  #dmask = mask ^ 255\\n  mask = imagearray[0,0]\\n # print(\"mask = \",mask)\\n  noofpix = (256*imagearray[0,1]+imagearray[0,2])\\n # print(\"noofpix = \",noofpix)\\n  datalen = (256*imagearray[0,3]+imagearray[0,4])\\n # print(\"datalen = \",datalen)\\n  binmessage=\\'\\'\\n  #noofbits= countzeros(mask)\\n  n = countzeros(mask)\\n # print(\"no of zeros in mask = \",n)\\n  stuffedbit = (n-(datalen % n))\\n # print(\"stuffedbit = \",stuffedbit) \\n  row,col=imagearray.shape\\n # print(\"row,col = \",row,col)\\n  edg = edgeloc(imagearray)\\n  nofedg = len(edg)\\n  for k in range(nofedg):\\n      i,j= edg[k]\\n      temp = imagearray[i,j]\\n      binmessage=binmessage+varbitextr(temp,mask)\\n      noofpix=noofpix-1\\n      if(not noofpix):\\n        print(\\'success\\')\\n        return bin2str(binmessage[:-stuffedbit])\\n       # print(-stuffedbit)\\n        #return binmessage[:-stuffedbit] to  \\n\\n  '"
            ]
          },
          "metadata": {
            "tags": []
          },
          "execution_count": 52
        }
      ]
    },
    {
      "cell_type": "code",
      "metadata": {
        "id": "xpuY-sprbm8p"
      },
      "source": [
        "def statistics(imgdata,binary,encodefunc):     # imgdata is dataframe\n",
        "  entry = len(imgdata)\n",
        "  score = list()\n",
        "  for i in tqdm(range(entry)):\n",
        "    image = cv2.imread(imgdata[\"path\"][i]) \n",
        "    gray = cv2.cvtColor(image, cv2.COLOR_BGR2GRAY)\n",
        "    temp=gray.copy()\n",
        "    mask = calcmask(gray)\n",
        "    temp= encodefunc(binary,temp,mask)\n",
        "    score.append(metrics(gray,temp,imgdata[\"imageid\"][i]))\n",
        "  colnames=[\"Image_ID\",\"BPP\",\"MSE\",\"SNR\",\"PSNR\",\"DATA\"]  \n",
        "  return  pd.DataFrame(score,columns=colnames)\n",
        "\n",
        "\n"
      ],
      "execution_count": 53,
      "outputs": []
    },
    {
      "cell_type": "code",
      "metadata": {
        "id": "JwPbqlsgbm7N"
      },
      "source": [
        "###########################################################################"
      ],
      "execution_count": 54,
      "outputs": []
    },
    {
      "cell_type": "code",
      "metadata": {
        "id": "_sqBHphYbmwB"
      },
      "source": [
        "base_image_dir ='/content/drive/MyDrive/imgdata'\n",
        "df = pd.read_csv('imagedat.csv')\n",
        "df['path'] = df['imageid'].map(lambda x: os.path.join(base_image_dir,'{}.tif'.format(x)))\n",
        "#df = df.drop(columns=['id_code'])"
      ],
      "execution_count": 55,
      "outputs": []
    },
    {
      "cell_type": "code",
      "metadata": {
        "id": "9TK7F-rDeCly"
      },
      "source": [
        "file = open('hello.txt', encoding='ascii', errors='replace')\n",
        "#print(file.read())\n",
        "message = file.read()\n",
        "file.close()"
      ],
      "execution_count": 56,
      "outputs": []
    },
    {
      "cell_type": "code",
      "metadata": {
        "id": "wBL45T9dmswj"
      },
      "source": [
        "#message"
      ],
      "execution_count": 57,
      "outputs": []
    },
    {
      "cell_type": "code",
      "metadata": {
        "id": "yhYaPujYdpvf"
      },
      "source": [
        "binary= str2bin(message)\n",
        "               "
      ],
      "execution_count": 58,
      "outputs": []
    },
    {
      "cell_type": "code",
      "metadata": {
        "id": "MdrDjuramluM"
      },
      "source": [
        "#print(bin2str(binary))"
      ],
      "execution_count": 59,
      "outputs": []
    },
    {
      "cell_type": "code",
      "metadata": {
        "colab": {
          "base_uri": "https://localhost:8080/"
        },
        "id": "-g17y86Udpt_",
        "outputId": "b11e9a8b-ded9-4db5-cdaf-0eeb9087e939"
      },
      "source": [
        "stats=statistics(df,binary,varbitencode1)"
      ],
      "execution_count": 60,
      "outputs": [
        {
          "output_type": "stream",
          "text": [
            "100%|██████████| 10/10 [00:13<00:00,  1.37s/it]\n"
          ],
          "name": "stderr"
        }
      ]
    },
    {
      "cell_type": "code",
      "metadata": {
        "colab": {
          "base_uri": "https://localhost:8080/",
          "height": 363
        },
        "id": "-eLz7mbkeaDS",
        "outputId": "1f463016-c27c-4d47-f888-5d716a4fb372"
      },
      "source": [
        "stats"
      ],
      "execution_count": 61,
      "outputs": [
        {
          "output_type": "execute_result",
          "data": {
            "text/html": [
              "<div>\n",
              "<style scoped>\n",
              "    .dataframe tbody tr th:only-of-type {\n",
              "        vertical-align: middle;\n",
              "    }\n",
              "\n",
              "    .dataframe tbody tr th {\n",
              "        vertical-align: top;\n",
              "    }\n",
              "\n",
              "    .dataframe thead th {\n",
              "        text-align: right;\n",
              "    }\n",
              "</style>\n",
              "<table border=\"1\" class=\"dataframe\">\n",
              "  <thead>\n",
              "    <tr style=\"text-align: right;\">\n",
              "      <th></th>\n",
              "      <th>Image_ID</th>\n",
              "      <th>BPP</th>\n",
              "      <th>MSE</th>\n",
              "      <th>SNR</th>\n",
              "      <th>PSNR</th>\n",
              "      <th>DATA</th>\n",
              "    </tr>\n",
              "  </thead>\n",
              "  <tbody>\n",
              "    <tr>\n",
              "      <th>0</th>\n",
              "      <td>1</td>\n",
              "      <td>4</td>\n",
              "      <td>0.102589</td>\n",
              "      <td>60.771366</td>\n",
              "      <td>58.019809</td>\n",
              "      <td>2019.500</td>\n",
              "    </tr>\n",
              "    <tr>\n",
              "      <th>1</th>\n",
              "      <td>2</td>\n",
              "      <td>3</td>\n",
              "      <td>0.007845</td>\n",
              "      <td>82.463710</td>\n",
              "      <td>69.184761</td>\n",
              "      <td>2665.500</td>\n",
              "    </tr>\n",
              "    <tr>\n",
              "      <th>2</th>\n",
              "      <td>3</td>\n",
              "      <td>4</td>\n",
              "      <td>0.072957</td>\n",
              "      <td>54.130157</td>\n",
              "      <td>59.500110</td>\n",
              "      <td>3045.000</td>\n",
              "    </tr>\n",
              "    <tr>\n",
              "      <th>3</th>\n",
              "      <td>4</td>\n",
              "      <td>3</td>\n",
              "      <td>0.011990</td>\n",
              "      <td>79.906692</td>\n",
              "      <td>67.342496</td>\n",
              "      <td>846.750</td>\n",
              "    </tr>\n",
              "    <tr>\n",
              "      <th>4</th>\n",
              "      <td>5</td>\n",
              "      <td>3</td>\n",
              "      <td>0.013756</td>\n",
              "      <td>78.495429</td>\n",
              "      <td>66.745946</td>\n",
              "      <td>6431.625</td>\n",
              "    </tr>\n",
              "    <tr>\n",
              "      <th>5</th>\n",
              "      <td>6</td>\n",
              "      <td>3</td>\n",
              "      <td>0.012791</td>\n",
              "      <td>78.353574</td>\n",
              "      <td>67.061867</td>\n",
              "      <td>5831.625</td>\n",
              "    </tr>\n",
              "    <tr>\n",
              "      <th>6</th>\n",
              "      <td>7</td>\n",
              "      <td>3</td>\n",
              "      <td>0.012463</td>\n",
              "      <td>78.994797</td>\n",
              "      <td>67.174711</td>\n",
              "      <td>5506.125</td>\n",
              "    </tr>\n",
              "    <tr>\n",
              "      <th>7</th>\n",
              "      <td>8</td>\n",
              "      <td>3</td>\n",
              "      <td>0.007355</td>\n",
              "      <td>81.983484</td>\n",
              "      <td>69.465133</td>\n",
              "      <td>2247.750</td>\n",
              "    </tr>\n",
              "    <tr>\n",
              "      <th>8</th>\n",
              "      <td>9</td>\n",
              "      <td>3</td>\n",
              "      <td>0.012398</td>\n",
              "      <td>79.334892</td>\n",
              "      <td>67.197369</td>\n",
              "      <td>10495.125</td>\n",
              "    </tr>\n",
              "    <tr>\n",
              "      <th>9</th>\n",
              "      <td>10</td>\n",
              "      <td>3</td>\n",
              "      <td>0.012424</td>\n",
              "      <td>78.830443</td>\n",
              "      <td>67.188025</td>\n",
              "      <td>20851.125</td>\n",
              "    </tr>\n",
              "  </tbody>\n",
              "</table>\n",
              "</div>"
            ],
            "text/plain": [
              "   Image_ID  BPP       MSE        SNR       PSNR       DATA\n",
              "0         1    4  0.102589  60.771366  58.019809   2019.500\n",
              "1         2    3  0.007845  82.463710  69.184761   2665.500\n",
              "2         3    4  0.072957  54.130157  59.500110   3045.000\n",
              "3         4    3  0.011990  79.906692  67.342496    846.750\n",
              "4         5    3  0.013756  78.495429  66.745946   6431.625\n",
              "5         6    3  0.012791  78.353574  67.061867   5831.625\n",
              "6         7    3  0.012463  78.994797  67.174711   5506.125\n",
              "7         8    3  0.007355  81.983484  69.465133   2247.750\n",
              "8         9    3  0.012398  79.334892  67.197369  10495.125\n",
              "9        10    3  0.012424  78.830443  67.188025  20851.125"
            ]
          },
          "metadata": {
            "tags": []
          },
          "execution_count": 61
        }
      ]
    },
    {
      "cell_type": "code",
      "metadata": {
        "id": "ow6SkBBUebLb"
      },
      "source": [
        "################################"
      ],
      "execution_count": 62,
      "outputs": []
    },
    {
      "cell_type": "code",
      "metadata": {
        "colab": {
          "base_uri": "https://localhost:8080/"
        },
        "id": "AXzlgRKuh7Oo",
        "outputId": "0aff51c4-d231-4218-e4ba-97f33fe7b20e"
      },
      "source": [
        "stats=statistics(df,binary,varbitencode2)"
      ],
      "execution_count": 63,
      "outputs": [
        {
          "output_type": "stream",
          "text": [
            "100%|██████████| 10/10 [00:17<00:00,  1.77s/it]\n"
          ],
          "name": "stderr"
        }
      ]
    },
    {
      "cell_type": "code",
      "metadata": {
        "colab": {
          "base_uri": "https://localhost:8080/",
          "height": 363
        },
        "id": "CgYEmfgLi2Iv",
        "outputId": "7393362b-71e5-41c8-a81a-e3e5129ff32c"
      },
      "source": [
        "stats"
      ],
      "execution_count": 64,
      "outputs": [
        {
          "output_type": "execute_result",
          "data": {
            "text/html": [
              "<div>\n",
              "<style scoped>\n",
              "    .dataframe tbody tr th:only-of-type {\n",
              "        vertical-align: middle;\n",
              "    }\n",
              "\n",
              "    .dataframe tbody tr th {\n",
              "        vertical-align: top;\n",
              "    }\n",
              "\n",
              "    .dataframe thead th {\n",
              "        text-align: right;\n",
              "    }\n",
              "</style>\n",
              "<table border=\"1\" class=\"dataframe\">\n",
              "  <thead>\n",
              "    <tr style=\"text-align: right;\">\n",
              "      <th></th>\n",
              "      <th>Image_ID</th>\n",
              "      <th>BPP</th>\n",
              "      <th>MSE</th>\n",
              "      <th>SNR</th>\n",
              "      <th>PSNR</th>\n",
              "      <th>DATA</th>\n",
              "    </tr>\n",
              "  </thead>\n",
              "  <tbody>\n",
              "    <tr>\n",
              "      <th>0</th>\n",
              "      <td>1</td>\n",
              "      <td>4</td>\n",
              "      <td>0.111963</td>\n",
              "      <td>60.011838</td>\n",
              "      <td>57.640045</td>\n",
              "      <td>2019.500</td>\n",
              "    </tr>\n",
              "    <tr>\n",
              "      <th>1</th>\n",
              "      <td>2</td>\n",
              "      <td>3</td>\n",
              "      <td>0.012973</td>\n",
              "      <td>78.095316</td>\n",
              "      <td>67.000564</td>\n",
              "      <td>2665.500</td>\n",
              "    </tr>\n",
              "    <tr>\n",
              "      <th>2</th>\n",
              "      <td>3</td>\n",
              "      <td>4</td>\n",
              "      <td>0.035686</td>\n",
              "      <td>60.341611</td>\n",
              "      <td>62.605837</td>\n",
              "      <td>3045.000</td>\n",
              "    </tr>\n",
              "    <tr>\n",
              "      <th>3</th>\n",
              "      <td>4</td>\n",
              "      <td>3</td>\n",
              "      <td>0.011932</td>\n",
              "      <td>79.948908</td>\n",
              "      <td>67.363604</td>\n",
              "      <td>846.750</td>\n",
              "    </tr>\n",
              "    <tr>\n",
              "      <th>4</th>\n",
              "      <td>5</td>\n",
              "      <td>3</td>\n",
              "      <td>0.012482</td>\n",
              "      <td>79.339677</td>\n",
              "      <td>67.168070</td>\n",
              "      <td>6431.625</td>\n",
              "    </tr>\n",
              "    <tr>\n",
              "      <th>5</th>\n",
              "      <td>6</td>\n",
              "      <td>3</td>\n",
              "      <td>0.013561</td>\n",
              "      <td>77.845453</td>\n",
              "      <td>66.807807</td>\n",
              "      <td>5831.625</td>\n",
              "    </tr>\n",
              "    <tr>\n",
              "      <th>6</th>\n",
              "      <td>7</td>\n",
              "      <td>3</td>\n",
              "      <td>0.011051</td>\n",
              "      <td>80.038810</td>\n",
              "      <td>67.696718</td>\n",
              "      <td>5506.125</td>\n",
              "    </tr>\n",
              "    <tr>\n",
              "      <th>7</th>\n",
              "      <td>8</td>\n",
              "      <td>3</td>\n",
              "      <td>0.012817</td>\n",
              "      <td>77.158839</td>\n",
              "      <td>67.052810</td>\n",
              "      <td>2247.750</td>\n",
              "    </tr>\n",
              "    <tr>\n",
              "      <th>8</th>\n",
              "      <td>9</td>\n",
              "      <td>3</td>\n",
              "      <td>0.012218</td>\n",
              "      <td>79.461420</td>\n",
              "      <td>67.260633</td>\n",
              "      <td>10495.125</td>\n",
              "    </tr>\n",
              "    <tr>\n",
              "      <th>9</th>\n",
              "      <td>10</td>\n",
              "      <td>3</td>\n",
              "      <td>0.012814</td>\n",
              "      <td>78.562598</td>\n",
              "      <td>67.054103</td>\n",
              "      <td>20851.125</td>\n",
              "    </tr>\n",
              "  </tbody>\n",
              "</table>\n",
              "</div>"
            ],
            "text/plain": [
              "   Image_ID  BPP       MSE        SNR       PSNR       DATA\n",
              "0         1    4  0.111963  60.011838  57.640045   2019.500\n",
              "1         2    3  0.012973  78.095316  67.000564   2665.500\n",
              "2         3    4  0.035686  60.341611  62.605837   3045.000\n",
              "3         4    3  0.011932  79.948908  67.363604    846.750\n",
              "4         5    3  0.012482  79.339677  67.168070   6431.625\n",
              "5         6    3  0.013561  77.845453  66.807807   5831.625\n",
              "6         7    3  0.011051  80.038810  67.696718   5506.125\n",
              "7         8    3  0.012817  77.158839  67.052810   2247.750\n",
              "8         9    3  0.012218  79.461420  67.260633  10495.125\n",
              "9        10    3  0.012814  78.562598  67.054103  20851.125"
            ]
          },
          "metadata": {
            "tags": []
          },
          "execution_count": 64
        }
      ]
    },
    {
      "cell_type": "code",
      "metadata": {
        "id": "cbQDKostjgVY"
      },
      "source": [
        ""
      ],
      "execution_count": 64,
      "outputs": []
    },
    {
      "cell_type": "code",
      "metadata": {
        "id": "NjF-i7whmrZd"
      },
      "source": [
        ""
      ],
      "execution_count": 64,
      "outputs": []
    },
    {
      "cell_type": "code",
      "metadata": {
        "id": "BHS4gnr-mrSe"
      },
      "source": [
        ""
      ],
      "execution_count": 64,
      "outputs": []
    },
    {
      "cell_type": "code",
      "metadata": {
        "id": "t_I6bBUKmrQX"
      },
      "source": [
        ""
      ],
      "execution_count": 64,
      "outputs": []
    },
    {
      "cell_type": "code",
      "metadata": {
        "id": "9kJOT325mrOe"
      },
      "source": [
        ""
      ],
      "execution_count": 64,
      "outputs": []
    }
  ]
}