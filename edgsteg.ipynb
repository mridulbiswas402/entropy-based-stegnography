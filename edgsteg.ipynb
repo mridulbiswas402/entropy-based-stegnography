{
  "nbformat": 4,
  "nbformat_minor": 0,
  "metadata": {
    "colab": {
      "name": "edgsteg.ipynb",
      "provenance": [],
      "authorship_tag": "ABX9TyPpMp6qNYgQID5GvyRpvl1N",
      "include_colab_link": true
    },
    "kernelspec": {
      "name": "python3",
      "display_name": "Python 3"
    },
    "language_info": {
      "name": "python"
    }
  },
  "cells": [
    {
      "cell_type": "markdown",
      "metadata": {
        "id": "view-in-github",
        "colab_type": "text"
      },
      "source": [
        "<a href=\"https://colab.research.google.com/github/mridulbiswas402/entropy-based-stegnography/blob/main/edgsteg.ipynb\" target=\"_parent\"><img src=\"https://colab.research.google.com/assets/colab-badge.svg\" alt=\"Open In Colab\"/></a>"
      ]
    },
    {
      "cell_type": "code",
      "metadata": {
        "id": "p17j0mh9ZFGN"
      },
      "source": [
        "from PIL import ImageColor\n",
        "from PIL import Image, ImageFilter\n",
        "import binascii\n",
        "import cv2 \n",
        "from numpy import asarray\n",
        "from math import floor\n",
        "import numpy as np \n",
        "from google.colab.patches import cv2_imshow  \n",
        "import matplotlib.pyplot as plt \n",
        "%matplotlib inline"
      ],
      "execution_count": null,
      "outputs": []
    },
    {
      "cell_type": "code",
      "metadata": {
        "id": "EbfZUJcRZWQb"
      },
      "source": [
        "def rgb2hex(r, g, b):\n",
        "\treturn '#{:02x}{:02x}{:02x}'.format(r, g, b)\n",
        "\n",
        "def hex2rgb(hexcode):\n",
        "\treturn ImageColor.getcolor(hexcode, \"RGB\")\n",
        "\n",
        "\n",
        "def str2bin(message):\n",
        "    binary = bin(int(binascii.hexlify(message.encode(\"ascii\")), 16))\n",
        "    return binary[2:]  \n",
        "\n",
        "def bin2str(binary):\n",
        "\tmessage = binascii.unhexlify('%x' % (int('0b'+binary,2)))\n",
        "\treturn message\n"
      ],
      "execution_count": null,
      "outputs": []
    },
    {
      "cell_type": "code",
      "metadata": {
        "id": "MDqlCZTCZaIu"
      },
      "source": [
        "def varbitextr(pixel,mask):\n",
        "  noofbits=countzeros(mask)\n",
        "  dmask=mask ^ 255\n",
        "  if (noofbits==1):\n",
        "    return format((pixel & dmask),\"0b\")\n",
        "  elif (noofbits==2):\n",
        "    return format((pixel & dmask),\"02b\")\n",
        "  elif (noofbits==3):\n",
        "    return format((pixel & dmask),\"03b\") \n",
        "  elif (noofbits==4):\n",
        "    return format((pixel & dmask),\"04b\")\n",
        "  else:\n",
        "    print(\"error\")     \n",
        "\n",
        "\n",
        "def varbitemb(pixel,data,mask):\n",
        "  return ((pixel & mask )|data)\n",
        "\n",
        "\n",
        "\n",
        "def countzeros(mask):\n",
        "  count0=0\n",
        "  while (mask != 0):  \n",
        "    if (mask % 2 == 0):\n",
        "      count0 += 1\n",
        "    mask //= 2\n",
        "  return count0  \n",
        "\n",
        "\n",
        "def stuffbits(binarymessage,mask):\n",
        " # print(\"  in function stuffbit \")\n",
        "  n = countzeros(mask)\n",
        "  #print(\"on of zero in mask = \",n)\n",
        "  nbstuff = (n-(len(binarymessage) % n)) \n",
        "  #print(\"nbstuff = \",nbstuff)\n",
        "  while (nbstuff):\n",
        "    binarymessage=binarymessage+'0'\n",
        "    nbstuff=nbstuff-1\n",
        "  return binarymessage   \n"
      ],
      "execution_count": null,
      "outputs": []
    },
    {
      "cell_type": "code",
      "metadata": {
        "id": "MuzdahpFZlpx"
      },
      "source": [
        "def varbitencode1(binmessage,imagearray,mask):\n",
        " # print(\"in function varbitencode1 \")\n",
        "  row,col=imagearray.shape\n",
        " # print(\"row,col = \",row,col)\n",
        "  noofbits= countzeros(mask)\n",
        " # print(\"noofbit = \",noofbits)\n",
        "  lst = stuffbits(binmessage,mask)\n",
        "  #lst=binmessage\n",
        "  imagearray[0,0]=mask\n",
        "  noofpix = format(int((len(lst)/noofbits)),'016b')\n",
        " # print(\"noofpix = \",int(noofpix,2))\n",
        "  datalen = format(len(binmessage),'016b')\n",
        " # print(\"datalen = \",int(datalen,2))\n",
        "  imagearray[0,1]=int(noofpix[:8],2)\n",
        "  imagearray[0,2]=int(noofpix[8:],2)\n",
        "  imagearray[0,3]=int(datalen[:8],2)\n",
        "  imagearray[0,4]=int(datalen[8:],2)\n",
        "  for i in range(1,row):\n",
        "    for j in range(col):\n",
        "      temp = imagearray[i,j]\n",
        "      if (lst):\n",
        "        data=int(lst[:noofbits],2)\n",
        "        lst=lst[noofbits:]\n",
        "        imagearray[i,j]=varbitemb(temp,data,mask)\n",
        "      else: break\n",
        "  return imagearray \n",
        "\n",
        "\n",
        " \n",
        "def varbitdecode1(imagearray):\n",
        " # print(\"  in function varbitdecode1  \")\n",
        "  #dmask = mask ^ 255\n",
        "  mask = imagearray[0,0]\n",
        " # print(\"mask = \",mask)\n",
        "  noofpix = (256*imagearray[0,1]+imagearray[0,2])\n",
        " # print(\"noofpix = \",noofpix)\n",
        "  datalen = (256*imagearray[0,3]+imagearray[0,4])\n",
        " # print(\"datalen = \",datalen)\n",
        "  binmessage=''\n",
        "  #noofbits= countzeros(mask)\n",
        "  n = countzeros(mask)\n",
        " # print(\"no of zeros in mask = \",n)\n",
        "  stuffedbit = (n-(datalen % n))\n",
        " # print(\"stuffedbit = \",stuffedbit) \n",
        "  row,col=imagearray.shape\n",
        " # print(\"row,col = \",row,col)\n",
        "\n",
        "  for i in range(1,row):\n",
        "    for j in range(col):\n",
        "      temp = imagearray[i,j]\n",
        "      binmessage=binmessage+varbitextr(temp,mask)\n",
        "      noofpix=noofpix-1\n",
        "      if(not noofpix):\n",
        "        print('success')\n",
        "        return bin2str(binmessage[:-stuffedbit])\n",
        "       # print(-stuffedbit)\n",
        "        #return binmessage[:-stuffedbit] "
      ],
      "execution_count": null,
      "outputs": []
    },
    {
      "cell_type": "code",
      "metadata": {
        "id": "KId8r_U3aD4l"
      },
      "source": [
        "img = Image.open(\"lena.png\")\n",
        "image = np.asarray(img)\n",
        "A=image.copy()\n",
        "binary=str2bin(\"colab.research i am mridul\")\n",
        "mask=0b11111110"
      ],
      "execution_count": null,
      "outputs": []
    },
    {
      "cell_type": "code",
      "metadata": {
        "id": "-lTuA2Ziae4k"
      },
      "source": [
        "outputimg=varbitencode1(binary,A,mask)"
      ],
      "execution_count": null,
      "outputs": []
    },
    {
      "cell_type": "code",
      "metadata": {
        "colab": {
          "base_uri": "https://localhost:8080/"
        },
        "id": "z0fIaOHoaiMN",
        "outputId": "db072e39-2181-4f0f-81bf-7b6a5af77f35"
      },
      "source": [
        "mess=varbitdecode1(outputimg)"
      ],
      "execution_count": null,
      "outputs": [
        {
          "output_type": "stream",
          "text": [
            "success\n"
          ],
          "name": "stdout"
        }
      ]
    },
    {
      "cell_type": "code",
      "metadata": {
        "colab": {
          "base_uri": "https://localhost:8080/"
        },
        "id": "xw7yY0qdayt9",
        "outputId": "c1abbce1-32af-4a28-e473-03ff0d911b9c"
      },
      "source": [
        "mess"
      ],
      "execution_count": null,
      "outputs": [
        {
          "output_type": "execute_result",
          "data": {
            "text/plain": [
              "b'colab.research i am mridul'"
            ]
          },
          "metadata": {
            "tags": []
          },
          "execution_count": 43
        }
      ]
    }
  ]
}